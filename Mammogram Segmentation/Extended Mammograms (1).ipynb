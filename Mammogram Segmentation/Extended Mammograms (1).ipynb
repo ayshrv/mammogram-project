{
 "cells": [
  {
   "cell_type": "markdown",
   "metadata": {},
   "source": [
    "# Basic Segmentation"
   ]
  },
  {
   "cell_type": "code",
   "execution_count": null,
   "metadata": {
    "collapsed": false
   },
   "outputs": [],
   "source": [
    "cd Dataset/"
   ]
  },
  {
   "cell_type": "code",
   "execution_count": null,
   "metadata": {
    "collapsed": false
   },
   "outputs": [],
   "source": [
    "from skimage import io\n",
    "from skimage.viewer import ImageViewer\n",
    "from skimage import filters\n",
    "import numpy as np\n",
    "import matplotlib.pyplot as plt"
   ]
  },
  {
   "cell_type": "code",
   "execution_count": null,
   "metadata": {
    "collapsed": false
   },
   "outputs": [],
   "source": [
    "folder=\"database_image/\"\n",
    "for i in range(1,323):\n",
    "    f_name='mdb'\n",
    "    if i<10: f_name+=\"00\"\n",
    "    elif i<100: f_name+=\"0\"\n",
    "    f_name+=str(i)+'.pgm'\n",
    "    print(f_name)\n",
    "    I = io.imread(folder+f_name)\n",
    "    I2 = io.imread(folder+f_name)\n",
    "    val = filters.threshold_otsu(I2)\n",
    "    mask = I < val;\n",
    "    I2[mask==True]=0;\n",
    "    I3=np.concatenate((I,I2),axis=1)\n",
    "    io.imsave(\"Segmented_Images/\"+f_name,I3)"
   ]
  },
  {
   "cell_type": "code",
   "execution_count": null,
   "metadata": {
    "collapsed": false
   },
   "outputs": [],
   "source": [
    "I3=np.concatenate((I,I2),axis=1)"
   ]
  },
  {
   "cell_type": "code",
   "execution_count": null,
   "metadata": {
    "collapsed": false
   },
   "outputs": [],
   "source": [
    "imshow(I3)\n",
    "plt.show()"
   ]
  },
  {
   "cell_type": "markdown",
   "metadata": {
    "collapsed": true
   },
   "source": [
    "# LBP"
   ]
  },
  {
   "cell_type": "code",
   "execution_count": null,
   "metadata": {
    "collapsed": true
   },
   "outputs": [],
   "source": [
    "from __future__ import print_function\n",
    "import numpy as np\n",
    "import matplotlib.pyplot as plt\n",
    "\n",
    "\n",
    "METHOD = 'uniform'\n",
    "plt.rcParams['font.size'] = 9\n",
    "\n",
    "\n",
    "def plot_circle(ax, center, radius, color):\n",
    "    circle = plt.Circle(center, radius, facecolor=color, edgecolor='0.5')\n",
    "    ax.add_patch(circle)\n",
    "\n",
    "\n",
    "def plot_lbp_model(ax, binary_values):\n",
    "    \"\"\"Draw the schematic for a local binary pattern.\"\"\"\n",
    "    # Geometry spec\n",
    "    theta = np.deg2rad(45)\n",
    "    R = 1\n",
    "    r = 0.15\n",
    "    w = 1.5\n",
    "    gray = '0.5'\n",
    "\n",
    "    # Draw the central pixel.\n",
    "    plot_circle(ax, (0, 0), radius=r, color=gray)\n",
    "    # Draw the surrounding pixels.\n",
    "    for i, facecolor in enumerate(binary_values):\n",
    "        x = R * np.cos(i * theta)\n",
    "        y = R * np.sin(i * theta)\n",
    "        plot_circle(ax, (x, y), radius=r, color=str(facecolor))\n",
    "\n",
    "    # Draw the pixel grid.\n",
    "    for x in np.linspace(-w, w, 4):\n",
    "        ax.axvline(x, color=gray)\n",
    "        ax.axhline(x, color=gray)\n",
    "\n",
    "    # Tweak the layout.\n",
    "    ax.axis('image')\n",
    "    ax.axis('off')\n",
    "    size = w + 0.2\n",
    "    ax.set_xlim(-size, size)\n",
    "    ax.set_ylim(-size, size)\n",
    "\n",
    "\n",
    "fig, axes = plt.subplots(ncols=5, figsize=(7, 2))\n",
    "\n",
    "titles = ['flat', 'flat', 'edge', 'corner', 'non-uniform']\n",
    "\n",
    "binary_patterns = [np.zeros(8),\n",
    "                   np.ones(8),\n",
    "                   np.hstack([np.ones(4), np.zeros(4)]),\n",
    "                   np.hstack([np.zeros(3), np.ones(5)]),\n",
    "                   [1, 0, 0, 1, 1, 1, 0, 0]]\n",
    "\n",
    "for ax, values, name in zip(axes, binary_patterns, titles):\n",
    "    plot_lbp_model(ax, values)\n",
    "    ax.set_title(name)\n",
    "plt.show()"
   ]
  },
  {
   "cell_type": "markdown",
   "metadata": {
    "collapsed": true
   },
   "source": [
    "# K-Means Segmentation"
   ]
  },
  {
   "cell_type": "code",
   "execution_count": null,
   "metadata": {
    "collapsed": false
   },
   "outputs": [],
   "source": [
    "import cv2\n",
    "import numpy as np\n",
    "import matplotlib.pyplot as plt\n",
    "%matplotlib\n",
    "np.set_printoptions(threshold=np.inf)"
   ]
  },
  {
   "cell_type": "code",
   "execution_count": null,
   "metadata": {
    "collapsed": false
   },
   "outputs": [],
   "source": [
    "def kmeans(image,segments):\n",
    "       #Preprocessing step\n",
    "       image=cv2.GaussianBlur(image,(7,7),0)\n",
    "       vectorized=image.reshape(-1,3)\n",
    "       vectorized=np.float32(vectorized)\n",
    "       criteria=(cv2.TERM_CRITERIA_EPS + cv2.TERM_CRITERIA_MAX_ITER,10, 1.0)\n",
    "       ret,label,center=cv2.kmeans(vectorized,segments,criteria,10,cv2.KMEANS_RANDOM_CENTERS)\n",
    "       res = center[label.flatten()]\n",
    "       segmented_image = res.reshape((image.shape))\n",
    "       return label.reshape((image.shape[0],image.shape[1])),segmented_image.astype(np.uint8)"
   ]
  },
  {
   "cell_type": "code",
   "execution_count": null,
   "metadata": {
    "collapsed": true
   },
   "outputs": [],
   "source": [
    "def extractComponent(image,label_image,label):\n",
    "       component=np.zeros(image.shape,np.uint8)\n",
    "       component[label_image==label]=image[label_image==label]\n",
    "       return component"
   ]
  },
  {
   "cell_type": "code",
   "execution_count": null,
   "metadata": {
    "collapsed": false
   },
   "outputs": [],
   "source": [
    "image=io.imread('Dataset/Segmented_Images3/mdb201.pgm')"
   ]
  },
  {
   "cell_type": "code",
   "execution_count": null,
   "metadata": {
    "collapsed": false
   },
   "outputs": [],
   "source": [
    "segments=4\n",
    "label,result=kmeans(image,segments)"
   ]
  },
  {
   "cell_type": "code",
   "execution_count": null,
   "metadata": {
    "collapsed": false
   },
   "outputs": [],
   "source": [
    "k_images=[]\n",
    "k_median=[]\n",
    "for i in range(segments):\n",
    "    imagex=extractComponent(image,label,i)\n",
    "    imagexx=imagex[imagex!=0]\n",
    "    k_median.append(np.median(imagexx))\n",
    "    k_images.append(extractComponent(image,label,i))\n",
    "index = k_median.index(max(k_median))"
   ]
  },
  {
   "cell_type": "code",
   "execution_count": null,
   "metadata": {
    "collapsed": false
   },
   "outputs": [],
   "source": [
    "io.imshow(k_images[index])\n",
    "plt.show()"
   ]
  },
  {
   "cell_type": "code",
   "execution_count": null,
   "metadata": {
    "collapsed": true
   },
   "outputs": [],
   "source": [
    "x=np.concatenate((k_images[0],k_images[1],k_images[2]),axis=1)"
   ]
  },
  {
   "cell_type": "code",
   "execution_count": null,
   "metadata": {
    "collapsed": true
   },
   "outputs": [],
   "source": [
    "io.imshow(x)\n",
    "plt.show()"
   ]
  },
  {
   "cell_type": "code",
   "execution_count": null,
   "metadata": {
    "collapsed": false
   },
   "outputs": [],
   "source": [
    "\n",
    "fig, axes = plt.subplots(ncols=segments)\n",
    "for i in range(segments):\n",
    "    imagex=extractComponent(image,label,i)\n",
    "    imagexx=imagex[imagex!=0]\n",
    "    print(\"Median: \"+ str(np.median(imagexx))+\" Mean: \"+str(np.mean(imagexx)))\n",
    "    axes[i].imshow(imagex)\n",
    "    axes[i].set_title(\"Cluster No. \"+str(i))\n",
    "    axes[i].axis('off')\n",
    "plt.show()"
   ]
  },
  {
   "cell_type": "code",
   "execution_count": null,
   "metadata": {
    "collapsed": false
   },
   "outputs": [],
   "source": [
    "# imagex=extractComponent(image,label,1)\n",
    "imagex=k_images[4]\n",
    "io.imshow(imagex)"
   ]
  },
  {
   "cell_type": "code",
   "execution_count": null,
   "metadata": {
    "collapsed": true
   },
   "outputs": [],
   "source": [
    "a=np.array([[10, 0, 4], [3, 2, 0]])"
   ]
  },
  {
   "cell_type": "code",
   "execution_count": null,
   "metadata": {
    "collapsed": false
   },
   "outputs": [],
   "source": [
    "a[a!=0]"
   ]
  },
  {
   "cell_type": "code",
   "execution_count": null,
   "metadata": {
    "collapsed": true
   },
   "outputs": [],
   "source": [
    "io.imsave(\"segmented.jpg\",extractComponent(image,label,1))"
   ]
  },
  {
   "cell_type": "code",
   "execution_count": null,
   "metadata": {
    "collapsed": true
   },
   "outputs": [],
   "source": [
    "io.imsave(\"original.jpg\",image)"
   ]
  },
  {
   "cell_type": "code",
   "execution_count": null,
   "metadata": {
    "collapsed": true
   },
   "outputs": [],
   "source": [
    "# segments=4\n",
    "folder=\"Dataset/Images_without_pectoral/\"\n",
    "for i in range(214,323):\n",
    "    f_name='mdb'\n",
    "    if i<10: f_name+=\"00\"\n",
    "    elif i<100: f_name+=\"0\"\n",
    "    f_name+=str(i)+'.pgm'\n",
    "    I = io.imread(folder+f_name)\n",
    "    label3,result3=kmeans(I,3)\n",
    "    label4,result4=kmeans(I,4)\n",
    "    k_images3=[]\n",
    "    k_median3=[]\n",
    "    for i in range(3):\n",
    "        imagex=extractComponent(I,label3,i)\n",
    "        imagexx=imagex[imagex!=0]\n",
    "        k_median3.append(np.median(imagexx))\n",
    "        k_images3.append(imagex)\n",
    "    index3 = k_median3.index(max(k_median3))\n",
    "    k_images4=[]\n",
    "    k_median4=[]\n",
    "    for i in range(4):\n",
    "        imagex=extractComponent(I,label4,i)\n",
    "        imagexx=imagex[imagex!=0]\n",
    "        k_median4.append(np.median(imagexx))\n",
    "        k_images4.append(imagex)\n",
    "    index4 = k_median4.index(max(k_median4))\n",
    "    io.imsave(\"Dataset/Kmeans_Segment3/\"+f_name,k_images3[index3])\n",
    "    io.imsave(\"Dataset/Kmeans_Segment4/\"+f_name,k_images4[index4])\n",
    "    I3=np.concatenate((I,k_images3[index3],k_images4[index4]),axis=1)\n",
    "    io.imsave(\"Dataset/Kmeans_Combined3_4/\"+f_name,I3)\n",
    "    print(f_name)"
   ]
  },
  {
   "cell_type": "markdown",
   "metadata": {
    "collapsed": true
   },
   "source": [
    "# Region Growing"
   ]
  },
  {
   "cell_type": "code",
   "execution_count": 44,
   "metadata": {
    "collapsed": false
   },
   "outputs": [],
   "source": [
    "from skimage import io\n",
    "import cv2\n",
    "import cv\n",
    "import numpy as np\n",
    "import matplotlib.pyplot as plt\n",
    "%matplotlib inline\n",
    "np.set_printoptions(threshold=np.inf)"
   ]
  },
  {
   "cell_type": "code",
   "execution_count": null,
   "metadata": {
    "collapsed": false
   },
   "outputs": [],
   "source": [
    "image=cv2.imread('Regiongrowing_figure_Original.jpg',0)"
   ]
  },
  {
   "cell_type": "code",
   "execution_count": null,
   "metadata": {
    "collapsed": false
   },
   "outputs": [],
   "source": [
    "image=cv2.imread('mdb004.pgm',0)"
   ]
  },
  {
   "cell_type": "code",
   "execution_count": null,
   "metadata": {
    "collapsed": false
   },
   "outputs": [],
   "source": [
    "image[43][2]"
   ]
  },
  {
   "cell_type": "code",
   "execution_count": null,
   "metadata": {
    "collapsed": false
   },
   "outputs": [],
   "source": [
    "plt.imshow(image)\n",
    "plt.show()"
   ]
  },
  {
   "cell_type": "code",
   "execution_count": null,
   "metadata": {
    "collapsed": false
   },
   "outputs": [],
   "source": [
    "imagex=image\n",
    "for i in range(image.shape[0]):\n",
    "    for j in range(image.shape[1]):\n",
    "        if(image[i][j]==255):\n",
    "            imagex[i][j]=255\n",
    "        else:\n",
    "            imagex[i][j]=0\n",
    "        "
   ]
  },
  {
   "cell_type": "code",
   "execution_count": null,
   "metadata": {
    "collapsed": false
   },
   "outputs": [],
   "source": [
    "plt.imshow(image,cmap='gray')\n",
    "plt.show()"
   ]
  },
  {
   "cell_type": "code",
   "execution_count": null,
   "metadata": {
    "collapsed": false
   },
   "outputs": [],
   "source": [
    "#imagex"
   ]
  },
  {
   "cell_type": "code",
   "execution_count": 2,
   "metadata": {
    "collapsed": false
   },
   "outputs": [
    {
     "ename": "NameError",
     "evalue": "name 'image' is not defined",
     "output_type": "error",
     "traceback": [
      "\u001b[0;31m---------------------------------------------------------------------------\u001b[0m",
      "\u001b[0;31mNameError\u001b[0m                                 Traceback (most recent call last)",
      "\u001b[0;32m<ipython-input-2-809b14a7d511>\u001b[0m in \u001b[0;36m<module>\u001b[0;34m()\u001b[0m\n\u001b[0;32m----> 1\u001b[0;31m \u001b[0mdims\u001b[0m \u001b[0;34m=\u001b[0m \u001b[0mimage\u001b[0m\u001b[0;34m.\u001b[0m\u001b[0mshape\u001b[0m\u001b[0;34m\u001b[0m\u001b[0m\n\u001b[0m\u001b[1;32m      2\u001b[0m \u001b[0mdims\u001b[0m\u001b[0;34m\u001b[0m\u001b[0m\n",
      "\u001b[0;31mNameError\u001b[0m: name 'image' is not defined"
     ]
    }
   ],
   "source": [
    "dims = image.shape\n",
    "dims"
   ]
  },
  {
   "cell_type": "code",
   "execution_count": null,
   "metadata": {
    "collapsed": true
   },
   "outputs": [],
   "source": [
    "def inimg(x,y,dims):\n",
    "    if(x>=0 and x<dims[0] and y>=0 and y<dims[1]):\n",
    "        return True\n",
    "    return False"
   ]
  },
  {
   "cell_type": "code",
   "execution_count": null,
   "metadata": {
    "collapsed": false
   },
   "outputs": [],
   "source": [
    "inimg(2345,10,dims)"
   ]
  },
  {
   "cell_type": "code",
   "execution_count": null,
   "metadata": {
    "collapsed": true
   },
   "outputs": [],
   "source": [
    "# image=cv2.imread('Regiongrowing_figure_Original.jpg',0)\n",
    "image=np.array([[1,2,3],[4,5,6],[700,8,9]])\n",
    "dims = image.shape"
   ]
  },
  {
   "cell_type": "code",
   "execution_count": null,
   "metadata": {
    "collapsed": false
   },
   "outputs": [],
   "source": [
    "image=cv2.imread('mdb214.pgm',0)\n",
    "dims = image.shape"
   ]
  },
  {
   "cell_type": "code",
   "execution_count": null,
   "metadata": {
    "collapsed": false
   },
   "outputs": [],
   "source": [
    "imagex=np.zeros_like(image)\n",
    "visited=np.zeros_like(image)"
   ]
  },
  {
   "cell_type": "code",
   "execution_count": null,
   "metadata": {
    "collapsed": true
   },
   "outputs": [],
   "source": []
  },
  {
   "cell_type": "code",
   "execution_count": 23,
   "metadata": {
    "collapsed": false
   },
   "outputs": [],
   "source": [
    "threshold=20\n",
    "maxv=0\n",
    "for i in range(dims[0]):\n",
    "    for j in range(dims[1]):\n",
    "        maxv=max(maxv,image[i][j])"
   ]
  },
  {
   "cell_type": "code",
   "execution_count": null,
   "metadata": {
    "collapsed": false
   },
   "outputs": [],
   "source": [
    "l=[]\n",
    "for i in range(dims[0]):\n",
    "    for j in range(dims[1]):\n",
    "        if(int(image[i][j])>200):\n",
    "            l.insert(0,(i,j))\n",
    "            visited[i][j]=1\n",
    "            break;"
   ]
  },
  {
   "cell_type": "code",
   "execution_count": null,
   "metadata": {
    "collapsed": false
   },
   "outputs": [],
   "source": []
  },
  {
   "cell_type": "code",
   "execution_count": null,
   "metadata": {
    "collapsed": false
   },
   "outputs": [],
   "source": [
    "h.sort()"
   ]
  },
  {
   "cell_type": "code",
   "execution_count": 70,
   "metadata": {
    "collapsed": true
   },
   "outputs": [],
   "source": [
    "def plot_comparison(original, filtered, filter_name):\n",
    "\n",
    "    fig, (ax1, ax2) = plt.subplots(ncols=2, figsize=(8, 4), sharex=True, sharey=True)\n",
    "    ax1.imshow(original, cmap=plt.cm.gray)\n",
    "    ax1.set_title('original')\n",
    "    ax1.axis('off')\n",
    "    ax1.set_adjustable('box-forced')\n",
    "    ax2.imshow(filtered, cmap=plt.cm.gray)\n",
    "    ax2.set_title(filter_name)\n",
    "    ax2.axis('off')\n",
    "    ax2.set_adjustable('box-forced')"
   ]
  },
  {
   "cell_type": "code",
   "execution_count": null,
   "metadata": {
    "collapsed": true
   },
   "outputs": [],
   "source": [
    "## new latest code"
   ]
  },
  {
   "cell_type": "code",
   "execution_count": 249,
   "metadata": {
    "collapsed": false
   },
   "outputs": [],
   "source": [
    "def testing(f_name,annot,image,name):\n",
    "    dims = image.shape\n",
    "    h = []\n",
    "    for i in range(dims[0]):\n",
    "        for j in range(dims[1]):\n",
    "            h.append((image[i][j],[i,j]))\n",
    "    h.sort()\n",
    "    imagex=np.zeros_like(image)\n",
    "    visited=np.zeros_like(image)\n",
    "    seeds=[]\n",
    "    for item in h[-1::-1]:\n",
    "        if(len(seeds)>20):\n",
    "            break\n",
    "        x1 = item[1][0]\n",
    "        y1 = item[1][1]\n",
    "        if(far(x1,y1)):\n",
    "            seeds.append((x1,y1))\n",
    "    l=seeds\n",
    "    orient = [(1, 0), (0, 1), (-1, 0), (0, -1)]\n",
    "    for i in l:\n",
    "        l2=[i]\n",
    "        mn = 0\n",
    "        cnt = 0\n",
    "        sm = 0\n",
    "        visited=np.zeros_like(image)\n",
    "        while(l2!=[]):\n",
    "            x,y=l2.pop()\n",
    "            imagex[x][y]=image[x][y]\n",
    "            #print(x,y)\n",
    "            cnt+=1\n",
    "            sm+=int(image[x][y])\n",
    "            mn = sm/cnt\n",
    "            for i,j in orient:\n",
    "                if(inimg(x+i,y+j,dims) and visited[x+i][y+j]==0):\n",
    "        #         if(not (x+i,y+j) in s and not (x+i,y+j) in l):\n",
    "        #         if(x>=0 and x<dims[0] and y>=0 and y<dims[1] and  not (x+i,y+j) in s and not (x+i,y+j) in l):\n",
    "                    #print abs(int(mn)-int(image[x+i][y+j])),mn,int(image[x+i][y+j])\n",
    "                    if(abs(int(mn)-int(image[x+i][y+j]))<=threshold):\n",
    "                        l2.insert(0,(x+i,y+j))\n",
    "                        visited[x+i][y+j]=1\n",
    "#     plot_comparison(annot, imagex, 'segmented:'+name)\n",
    "    I3=np.concatenate((annot,imagex),axis=1)\n",
    "    io.imsave(\"/media/ayush/New Volume/ML/Projects/Mammo-Extended/segmented_anotated/\"+f_name,I3)\n",
    "    print(f_name)\n",
    "    "
   ]
  },
  {
   "cell_type": "code",
   "execution_count": 260,
   "metadata": {
    "collapsed": false
   },
   "outputs": [
    {
     "name": "stdout",
     "output_type": "stream",
     "text": [
      "/media/arpit/New Volume/ML/Projects/Mammo-Extended/database_image/\n",
      "Found directory: /media/arpit/New Volume/ML/Projects/Mammo-Extended/database_image/\n",
      "mdb246.pgm\n",
      "mdb247.pgm\n",
      "mdb248.pgm\n",
      "mdb249.pgm\n",
      "mdb250.pgm\n",
      "mdb251.pgm\n",
      "mdb252.pgm\n",
      "mdb253.pgm\n",
      "mdb254.pgm\n",
      "mdb255.pgm\n",
      "mdb256.pgm\n",
      "mdb257.pgm\n",
      "mdb258.pgm\n",
      "mdb259.pgm\n",
      "mdb260.pgm\n",
      "mdb261.pgm\n",
      "mdb262.pgm\n",
      "mdb263.pgm\n",
      "mdb264.pgm\n",
      "mdb283.pgm\n",
      "mdb304.pgm\n",
      "mdb284.pgm\n",
      "mdb285.pgm\n",
      "mdb286.pgm\n",
      "mdb287.pgm\n",
      "mdb288.pgm\n",
      "mdb289.pgm\n",
      "mdb290.pgm\n",
      "mdb291.pgm\n",
      "mdb292.pgm\n",
      "mdb293.pgm\n",
      "mdb294.pgm\n",
      "mdb295.pgm\n",
      "mdb296.pgm\n",
      "mdb297.pgm\n",
      "mdb298.pgm\n",
      "mdb299.pgm\n",
      "mdb300.pgm\n",
      "mdb301.pgm\n",
      "mdb302.pgm\n",
      "mdb303.pgm\n",
      "mdb305.pgm\n",
      "mdb306.pgm\n",
      "mdb307.pgm\n",
      "mdb308.pgm\n",
      "mdb309.pgm\n",
      "mdb310.pgm\n",
      "mdb311.pgm\n",
      "mdb312.pgm\n",
      "mdb313.pgm\n",
      "mdb314.pgm\n",
      "mdb315.pgm\n",
      "mdb316.pgm\n",
      "mdb317.pgm\n",
      "mdb318.pgm\n",
      "mdb319.pgm\n",
      "mdb320.pgm\n",
      "mdb321.pgm\n",
      "mdb322.pgm\n",
      "mdb265.pgm\n",
      "mdb266.pgm\n",
      "mdb267.pgm\n",
      "mdb268.pgm\n",
      "mdb269.pgm\n",
      "mdb270.pgm\n",
      "mdb271.pgm\n",
      "mdb272.pgm\n",
      "mdb273.pgm\n",
      "mdb274.pgm\n",
      "mdb275.pgm\n",
      "mdb276.pgm\n",
      "mdb277.pgm\n",
      "mdb278.pgm\n",
      "mdb279.pgm\n",
      "mdb280.pgm\n",
      "mdb281.pgm\n",
      "mdb282.pgm\n"
     ]
    }
   ],
   "source": [
    "import os\n",
    "data_path = \"/media/ayush/New Volume/ML/Projects/Mammo-Extended/database_image/\"\n",
    "rootDir = data_path\n",
    "print rootDir\n",
    "for dirName, subdirList, fileList in os.walk(rootDir):\n",
    "    print('Found directory: %s' % dirName)\n",
    "    for fname in fileList:\n",
    "        if(fname[-3:]=='pgm'):\n",
    "#             print fname\n",
    "            num = int(fname[3:6])\n",
    "            if(num>245):\n",
    "                image=cv2.imread('Segmented_Images2/'+fname,0)\n",
    "                image2 = cv2.imread('annotated/'+fname,0)\n",
    "                testing(fname,image2,image,fname)\n",
    "\n",
    "            "
   ]
  },
  {
   "cell_type": "code",
   "execution_count": null,
   "metadata": {
    "collapsed": false
   },
   "outputs": [],
   "source": [
    "# for i in range(1,333):\n",
    "#     #print 'mdb0'+str(i)+'.pgm'\n",
    "#     f_name = 'mdb0'+str(i)+'.pgm'\n",
    "#     image=cv2.imread('Segmented_Images2/'+'mdb0'+str(i)+'.pgm',0)\n",
    "#     image2 = cv2.imread('annotated/'+'mdb0'+str(i)+'.pgm',0)\n",
    "#     testing(f_name,image2,image,'mdb0'+str(i)+'.pgm')\n",
    "\n",
    "        "
   ]
  },
  {
   "cell_type": "code",
   "execution_count": null,
   "metadata": {
    "collapsed": false
   },
   "outputs": [],
   "source": []
  },
  {
   "cell_type": "code",
   "execution_count": 190,
   "metadata": {
    "collapsed": false
   },
   "outputs": [],
   "source": [
    "def far(x1,y1):\n",
    "    for pts in seeds:\n",
    "        if (abs(pts[0]-x1)+abs(pts[1]-y1))<30:\n",
    "            return False\n",
    "    return True\n",
    "def inimg(x,y,dims):\n",
    "    if(x>=0 and x<dims[0] and y>=0 and y<dims[1]):\n",
    "        return True\n",
    "    return False"
   ]
  },
  {
   "cell_type": "code",
   "execution_count": 257,
   "metadata": {
    "collapsed": true
   },
   "outputs": [],
   "source": [
    "image=cv2.imread('Segmented_Images2/'+'mdb244.pgm',0)\n",
    "dims = image.shape"
   ]
  },
  {
   "cell_type": "code",
   "execution_count": 226,
   "metadata": {
    "collapsed": true
   },
   "outputs": [],
   "source": [
    "h = []\n",
    "for i in range(dims[0]):\n",
    "    for j in range(dims[1]):\n",
    "        h.append((image[i][j],[i,j]))\n",
    "h.sort()"
   ]
  },
  {
   "cell_type": "code",
   "execution_count": 227,
   "metadata": {
    "collapsed": true
   },
   "outputs": [],
   "source": [
    "imagex=np.zeros_like(image)\n",
    "visited=np.zeros_like(image)\n",
    "threshold=25"
   ]
  },
  {
   "cell_type": "code",
   "execution_count": 228,
   "metadata": {
    "collapsed": false
   },
   "outputs": [],
   "source": [
    "seeds=[]"
   ]
  },
  {
   "cell_type": "code",
   "execution_count": 229,
   "metadata": {
    "collapsed": false
   },
   "outputs": [],
   "source": [
    "for item in h[-1::-1]:\n",
    "    if(len(seeds)>20):\n",
    "        break\n",
    "    x1 = item[1][0]\n",
    "    y1 = item[1][1]\n",
    "    if(far(x1,y1)):\n",
    "        seeds.append((x1,y1))    "
   ]
  },
  {
   "cell_type": "code",
   "execution_count": 230,
   "metadata": {
    "collapsed": true
   },
   "outputs": [],
   "source": [
    "l = seeds"
   ]
  },
  {
   "cell_type": "code",
   "execution_count": 231,
   "metadata": {
    "collapsed": false
   },
   "outputs": [
    {
     "data": {
      "text/plain": [
       "[(482, 644),\n",
       " (276, 708),\n",
       " (206, 666),\n",
       " (247, 710),\n",
       " (199, 702),\n",
       " (478, 550),\n",
       " (247, 649),\n",
       " (229, 678),\n",
       " (519, 529),\n",
       " (175, 694),\n",
       " (214, 644),\n",
       " (190, 652),\n",
       " (543, 493),\n",
       " (264, 690),\n",
       " (164, 658),\n",
       " (570, 532),\n",
       " (294, 691),\n",
       " (262, 634),\n",
       " (150, 682),\n",
       " (486, 496),\n",
       " (162, 711)]"
      ]
     },
     "execution_count": 231,
     "metadata": {},
     "output_type": "execute_result"
    }
   ],
   "source": [
    "l"
   ]
  },
  {
   "cell_type": "code",
   "execution_count": 232,
   "metadata": {
    "collapsed": false
   },
   "outputs": [],
   "source": [
    "orient = [(1, 0), (0, 1), (-1, 0), (0, -1)]\n",
    "for i in l:\n",
    "    l2=[i]\n",
    "    mn = 0\n",
    "    cnt = 0\n",
    "    sm = 0\n",
    "    visited=np.zeros_like(image)\n",
    "    while(l2!=[]):\n",
    "        x,y=l2.pop()\n",
    "        imagex[x][y]=image[x][y]\n",
    "        #print(x,y)\n",
    "        cnt+=1\n",
    "        sm+=int(image[x][y])\n",
    "        mn = sm/cnt\n",
    "        for i,j in orient:\n",
    "            if(inimg(x+i,y+j,dims) and visited[x+i][y+j]==0):\n",
    "    #         if(not (x+i,y+j) in s and not (x+i,y+j) in l):\n",
    "    #         if(x>=0 and x<dims[0] and y>=0 and y<dims[1] and  not (x+i,y+j) in s and not (x+i,y+j) in l):\n",
    "                #print abs(int(mn)-int(image[x+i][y+j])),mn,int(image[x+i][y+j])\n",
    "                if(abs(int(mn)-int(image[x+i][y+j]))<=threshold):\n",
    "                    l2.insert(0,(x+i,y+j))\n",
    "                    visited[x+i][y+j]=1"
   ]
  },
  {
   "cell_type": "code",
   "execution_count": 233,
   "metadata": {
    "collapsed": false
   },
   "outputs": [
    {
     "data": {
      "image/png": "[encoded data removed]",
      "text/plain": [
       "<matplotlib.figure.Figure at 0x7ff15c07bb10>"
      ]
     },
     "metadata": {},
     "output_type": "display_data"
    }
   ],
   "source": [
    "plt.imshow(imagex,cmap='gray')\n",
    "plt.show()"
   ]
  },
  {
   "cell_type": "code",
   "execution_count": 234,
   "metadata": {
    "collapsed": false
   },
   "outputs": [
    {
     "data": {
      "image/png": "[encoded data removed]",
      "text/plain": [
       "<matplotlib.figure.Figure at 0x7ff15c07b850>"
      ]
     },
     "metadata": {},
     "output_type": "display_data"
    }
   ],
   "source": [
    "plt.imshow(image,cmap='gray')\n",
    "plt.show()"
   ]
  },
  {
   "cell_type": "code",
   "execution_count": 128,
   "metadata": {
    "collapsed": false
   },
   "outputs": [
    {
     "data": {
      "image/png": "[encoded data removed]",
      "text/plain": [
       "<matplotlib.figure.Figure at 0x7ff1852b9f90>"
      ]
     },
     "metadata": {},
     "output_type": "display_data"
    }
   ],
   "source": [
    "plt.imshow(imagex,cmap='gray')\n",
    "plt.show()"
   ]
  },
  {
   "cell_type": "code",
   "execution_count": null,
   "metadata": {
    "collapsed": false
   },
   "outputs": [],
   "source": [
    "plt.imshow(image,cmap='gray')"
   ]
  },
  {
   "cell_type": "code",
   "execution_count": 40,
   "metadata": {
    "collapsed": false
   },
   "outputs": [],
   "source": [
    "for x,y in l:\n",
    "    imagex[x][y] = image[x][y]"
   ]
  },
  {
   "cell_type": "code",
   "execution_count": null,
   "metadata": {
    "collapsed": false
   },
   "outputs": [],
   "source": []
  },
  {
   "cell_type": "code",
   "execution_count": null,
   "metadata": {
    "collapsed": true
   },
   "outputs": [],
   "source": []
  }
 ],
 "metadata": {
  "kernelspec": {
   "display_name": "Python 2",
   "language": "python",
   "name": "python2"
  },
  "language_info": {
   "codemirror_mode": {
    "name": "ipython",
    "version": 2
   },
   "file_extension": ".py",
   "mimetype": "text/x-python",
   "name": "python",
   "nbconvert_exporter": "python",
   "pygments_lexer": "ipython2",
   "version": "2.7.12"
  }
 },
 "nbformat": 4,
 "nbformat_minor": 0
}
